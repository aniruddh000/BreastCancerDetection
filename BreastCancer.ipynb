{
  "nbformat": 4,
  "nbformat_minor": 0,
  "metadata": {
    "colab": {
      "provenance": [],
      "toc_visible": true,
      "authorship_tag": "ABX9TyMw7OgoAtjpubp2FttIlNG+",
      "include_colab_link": true
    },
    "kernelspec": {
      "name": "python3",
      "display_name": "Python 3"
    },
    "language_info": {
      "name": "python"
    }
  },
  "cells": [
    {
      "cell_type": "markdown",
      "metadata": {
        "id": "view-in-github",
        "colab_type": "text"
      },
      "source": [
        "<a href=\"https://colab.research.google.com/github/aniruddh000/BreastCancerDetection/blob/main/BreastCancer.ipynb\" target=\"_parent\"><img src=\"https://colab.research.google.com/assets/colab-badge.svg\" alt=\"Open In Colab\"/></a>"
      ]
    },
    {
      "cell_type": "code",
      "execution_count": 9,
      "metadata": {
        "colab": {
          "base_uri": "https://localhost:8080/"
        },
        "id": "k3GI4GRRrUFV",
        "outputId": "06a86f0b-a22f-4c5e-8752-7a5a2e77df55"
      },
      "outputs": [
        {
          "output_type": "stream",
          "name": "stdout",
          "text": [
            "['malignant' 'benign']\n",
            "Class label: 0\n",
            "['mean radius' 'mean texture' 'mean perimeter' 'mean area'\n",
            " 'mean smoothness' 'mean compactness' 'mean concavity'\n",
            " 'mean concave points' 'mean symmetry' 'mean fractal dimension'\n",
            " 'radius error' 'texture error' 'perimeter error' 'area error'\n",
            " 'smoothness error' 'compactness error' 'concavity error'\n",
            " 'concave points error' 'symmetry error' 'fractal dimension error'\n",
            " 'worst radius' 'worst texture' 'worst perimeter' 'worst area'\n",
            " 'worst smoothness' 'worst compactness' 'worst concavity'\n",
            " 'worst concave points' 'worst symmetry' 'worst fractal dimension']\n",
            "[1.799e+01 1.038e+01 1.228e+02 1.001e+03 1.184e-01 2.776e-01 3.001e-01\n",
            " 1.471e-01 2.419e-01 7.871e-02 1.095e+00 9.053e-01 8.589e+00 1.534e+02\n",
            " 6.399e-03 4.904e-02 5.373e-02 1.587e-02 3.003e-02 6.193e-03 2.538e+01\n",
            " 1.733e+01 1.846e+02 2.019e+03 1.622e-01 6.656e-01 7.119e-01 2.654e-01\n",
            " 4.601e-01 1.189e-01] \n",
            "\n",
            "[1 0 0 1 1 0 0 0 1 1 1 0 1 0 1 0 1 1 1 0 1 1 0 1 1 1 1 1 1 0 1 1 1 1 1 1 0\n",
            " 1 0 1 1 0 1 1 1 1 1 1 1 1 0 0 1 1 1 1 1 0 0 1 1 0 0 1 1 1 0 0 1 1 0 0 1 0\n",
            " 1 1 1 1 1 1 0 1 1 0 0 0 0 0 1 1 1 1 1 1 1 1 0 0 1 0 0 1 0 0 1 1 1 0 1 1 0\n",
            " 1 1 0] \n",
            "\n",
            "0.9736842105263158\n"
          ]
        }
      ],
      "source": [
        "  from sklearn.datasets import load_breast_cancer\n",
        "  from sklearn.model_selection import train_test_split\n",
        "  from sklearn.naive_bayes import GaussianNB\n",
        "  from sklearn.metrics import accuracy_score\n",
        "\n",
        "  data = load_breast_cancer()\n",
        "  label_names = data['target_names']\n",
        "  labels = data['target']\n",
        "  feature_names = data['feature_names']\n",
        "  features = data['data']\n",
        "\n",
        "  print(label_names)\n",
        "  print(\"Class label:\",labels[0])\n",
        "  print(feature_names)\n",
        "  print(features[0],\"\\n\")\n",
        "\n",
        "  train,test,train_labels,test_labels=train_test_split(features,labels,test_size=.2,random_state=42)\n",
        "\n",
        "  gnb=GaussianNB()\n",
        "  gnb.fit(train,train_labels)\n",
        "\n",
        "  preds=gnb.predict(test)\n",
        "  print(preds,\"\\n\")\n",
        "  print(accuracy_score(test_labels,preds))"
      ]
    },
    {
      "cell_type": "markdown",
      "source": [
        "# New Section"
      ],
      "metadata": {
        "id": "ikT8LvUfsAXz"
      }
    },
    {
      "cell_type": "code",
      "metadata": {
        "colab": {
          "base_uri": "https://localhost:8080/"
        },
        "id": "bbf0b6df",
        "outputId": "15f38850-4fa9-4470-8e54-af7f40bfa184"
      },
      "source": [
        "# Example input for a single patient (replace with actual patient data)\n",
        "# Make sure the order of features matches the order in feature_names\n",
        "single_patient_features = [\n",
        "    17.99, 10.38, 122.8, 1001.0, 0.1184, 0.2776, 0.3001, 0.1471, 0.2419, 0.07871,\n",
        "    1.095, 0.9053, 8.589, 153.4, 0.006399, 0.04904, 0.05373, 0.01587, 0.03003, 0.006193,\n",
        "    25.38, 17.33, 184.6, 2019.0, 0.1622, 0.6656, 0.7119, 0.2654, 0.4601, 0.1189\n",
        "]\n",
        "\n",
        "import numpy as np\n",
        "\n",
        "# Reshape the input to be a 2D array with one row\n",
        "single_patient_features_reshaped = np.array(single_patient_features).reshape(1, -1)\n",
        "\n",
        "# Use the trained model to predict\n",
        "prediction = gnb.predict(single_patient_features_reshaped)\n",
        "\n",
        "# Get the predicted label name\n",
        "predicted_label = label_names[prediction[0]]\n",
        "\n",
        "print(f\"The predicted diagnosis for the patient is: {predicted_label}\")"
      ],
      "execution_count": 10,
      "outputs": [
        {
          "output_type": "stream",
          "name": "stdout",
          "text": [
            "The predicted diagnosis for the patient is: malignant\n"
          ]
        }
      ]
    }
  ]
}